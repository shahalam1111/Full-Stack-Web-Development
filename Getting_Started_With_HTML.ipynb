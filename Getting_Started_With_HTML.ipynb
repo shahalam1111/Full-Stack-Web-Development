{
  "nbformat": 4,
  "nbformat_minor": 0,
  "metadata": {
    "colab": {
      "provenance": [],
      "authorship_tag": "ABX9TyOoAKjsY/oivszf47HzQpr6",
      "include_colab_link": true
    },
    "kernelspec": {
      "name": "python3",
      "display_name": "Python 3"
    },
    "language_info": {
      "name": "python"
    }
  },
  "cells": [
    {
      "cell_type": "markdown",
      "metadata": {
        "id": "view-in-github",
        "colab_type": "text"
      },
      "source": [
        "<a href=\"https://colab.research.google.com/github/shahalam1111/Full-Stack-Web-Development/blob/main/Getting_Started_With_HTML.ipynb\" target=\"_parent\"><img src=\"https://colab.research.google.com/assets/colab-badge.svg\" alt=\"Open In Colab\"/></a>"
      ]
    },
    {
      "cell_type": "markdown",
      "source": [
        "# Introduction to Web Development"
      ],
      "metadata": {
        "id": "LwJ61T3Hch3T"
      }
    },
    {
      "cell_type": "markdown",
      "source": [
        " **1. Write a simple program in HTML  that displays the heading \"HTML defines the content and structure of your website” on the web browser?**"
      ],
      "metadata": {
        "id": "ZzezmnfZcu35"
      }
    },
    {
      "cell_type": "code",
      "execution_count": null,
      "metadata": {
        "colab": {
          "base_uri": "https://localhost:8080/",
          "height": 74
        },
        "id": "5Z1yM8B1cHik",
        "outputId": "9d5d1882-9633-49eb-cfeb-7f04afcdffd4"
      },
      "outputs": [
        {
          "output_type": "display_data",
          "data": {
            "text/plain": [
              "<IPython.core.display.HTML object>"
            ],
            "text/html": [
              "<!DOCTYPE html>\n",
              "<html>\n",
              "<head>\n",
              "    <title>HTML Heading Example</title>\n",
              "</head>\n",
              "<body>\n",
              "    <h1>HTML defines the content and structure of your website</h1>\n",
              "</body>\n",
              "</html>\n",
              "\n"
            ]
          },
          "metadata": {}
        }
      ],
      "source": [
        "%%html\n",
        "<!DOCTYPE html>\n",
        "<html>\n",
        "<head>\n",
        "    <title>HTML Heading Example</title>\n",
        "</head>\n",
        "<body>\n",
        "    <h1>HTML defines the content and structure of your website</h1>\n",
        "</body>\n",
        "</html>\n",
        "\n"
      ]
    },
    {
      "cell_type": "markdown",
      "source": [
        "**2. Explain the purpose of comments in HTML and provide an example of how to use comments in an HTML document?**\n",
        "\n",
        "**Ans:** Comments in HTML are used to:\n",
        "\n",
        "* Explain the code to yourself or others reading it.\n",
        "\n",
        "* Organize sections of a webpage.\n",
        "\n",
        "* Temporarily disable code without deleting it.\n",
        "\n",
        "* Help with collaboration, especially in teams.\n",
        "\n",
        "    **Imp Note:** Comments are not displayed in the browser.\n",
        "\n",
        "    \n",
        "  **Example of Comments in an HTML Document.**\n",
        "\n",
        "---\n",
        "\n",
        "\n",
        "\n"
      ],
      "metadata": {
        "id": "oBmiyIM8eezM"
      }
    },
    {
      "cell_type": "code",
      "source": [
        "%%html\n",
        "<!DOCTYPE html>\n",
        "<html>\n",
        "<head>\n",
        "    <title>Comment Example</title>\n",
        "</head>\n",
        "<body>\n",
        "    <!-- This is the main heading of the page -->\n",
        "    <h1>Welcome to My Website</h1>\n",
        "\n",
        "    <!-- Below is a paragraph introducing the site -->\n",
        "    <p>This website shares useful information about web development.</p>\n",
        "\n",
        "    <!-- <p>This line is commented out and won't be shown in the browser.</p> -->\n",
        "</body>\n",
        "</html>\n"
      ],
      "metadata": {
        "colab": {
          "base_uri": "https://localhost:8080/",
          "height": 100
        },
        "id": "rKmnl3BRdEmS",
        "outputId": "e8a15387-ffb3-4904-e631-61266422e9dc"
      },
      "execution_count": null,
      "outputs": [
        {
          "output_type": "display_data",
          "data": {
            "text/plain": [
              "<IPython.core.display.HTML object>"
            ],
            "text/html": [
              "<!DOCTYPE html>\n",
              "<html>\n",
              "<head>\n",
              "    <title>Comment Example</title>\n",
              "</head>\n",
              "<body>\n",
              "    <!-- This is the main heading of the page -->\n",
              "    <h1>Welcome to My Website</h1>\n",
              "\n",
              "    <!-- Below is a paragraph introducing the site -->\n",
              "    <p>This website shares useful information about web development.</p>\n",
              "\n",
              "    <!-- <p>This line is commented out and won't be shown in the browser.</p> -->\n",
              "</body>\n",
              "</html>\n"
            ]
          },
          "metadata": {}
        }
      ]
    },
    {
      "cell_type": "markdown",
      "source": [
        "**3. Write an HTML program that includes a heading, a paragraph of text, a horizontal line, and a line break. Arrange these elements to create a simple web page layout?**"
      ],
      "metadata": {
        "id": "K-p-B4jhhN3R"
      }
    },
    {
      "cell_type": "code",
      "source": [
        "%%html\n",
        "<!DOCTYPE html>\n",
        "<html>\n",
        "<head>\n",
        "    <title>Simple Web Page Layout</title>\n",
        "</head>\n",
        "<body>\n",
        "\n",
        "    <!-- Main Heading -->\n",
        "    <h1>Welcome to My Simple Web Page</h1>\n",
        "\n",
        "    <!-- Horizontal Line -->\n",
        "    <hr>\n",
        "\n",
        "    <!-- Paragraph of text -->\n",
        "    <p>\n",
        "        This is a paragraph of text that describes the content of the page.<br> <!-- Line break -->\n",
        "        It demonstrates how HTML can structure text, and includes a line break right here.\n",
        "        This makes the content easier to read.\n",
        "    </p>\n",
        "\n",
        "</body>\n",
        "</html>\n"
      ],
      "metadata": {
        "colab": {
          "base_uri": "https://localhost:8080/",
          "height": 127
        },
        "id": "f5zMKjr-hCkM",
        "outputId": "1ae98c68-3f7a-4b32-9955-1478b92ef4f1"
      },
      "execution_count": null,
      "outputs": [
        {
          "output_type": "display_data",
          "data": {
            "text/plain": [
              "<IPython.core.display.HTML object>"
            ],
            "text/html": [
              "<!DOCTYPE html>\n",
              "<html>\n",
              "<head>\n",
              "    <title>Simple Web Page Layout</title>\n",
              "</head>\n",
              "<body>\n",
              "\n",
              "    <!-- Main Heading -->\n",
              "    <h1>Welcome to My Simple Web Page</h1>\n",
              "\n",
              "    <!-- Horizontal Line -->\n",
              "    <hr>\n",
              "\n",
              "    <!-- Paragraph of text -->\n",
              "    <p>\n",
              "        This is a paragraph of text that describes the content of the page.<br> <!-- Line break -->\n",
              "        It demonstrates how HTML can structure text, and includes a line break right here.\n",
              "        This makes the content easier to read.\n",
              "    </p>\n",
              "\n",
              "</body>\n",
              "</html>\n"
            ]
          },
          "metadata": {}
        }
      ]
    },
    {
      "cell_type": "markdown",
      "source": [
        "**4. Write a short note on Tag and element with an example?**\n",
        "\n",
        "**Ans:**\n",
        "\n",
        " **Tag**\n",
        "\n",
        "---\n",
        "\n",
        "\n",
        "\n",
        "A tag is a part of HTML syntax used to define an element. It usually comes in a pair:\n",
        "\n",
        "**Opening tag:** `<tagname>`\n",
        "\n",
        "**Closing tag:** `</tagname>`\n",
        "\n",
        "**Example:** `<p>This is a paragraph.</p>`\n",
        "\n",
        "Here, `<p>` is the opening tag, and `</p>` is the closing tag.\n",
        "\n",
        "**Element**\n",
        "\n",
        "\n",
        "\n",
        "\n",
        "\n",
        "---\n",
        "\n",
        "\n",
        "\n",
        "An element includes:\n",
        "\n",
        "* The opening tag.\n",
        "\n",
        "* The content.\n",
        "\n",
        "* The closing tag.\n",
        "\n",
        "**Example:** `<p>This is a paragraph.</p>`\n",
        "\n",
        "Here, `<p>This is a paragraph.</p>` is a complete HTML element.\n",
        "\n"
      ],
      "metadata": {
        "id": "t2NJA6z7irli"
      }
    },
    {
      "cell_type": "markdown",
      "source": [
        "**5.  What is the DOCTYPE Declaration in HTML?**\n",
        "\n",
        "**Ans:** The `<!DOCTYPE>` declaration tells the web browser which version of HTML the page is written in. It must appear at the very top of every HTML document, before the `<html>` tag.\n",
        "\n",
        "✅ Purpose of DOCTYPE:\n",
        "\n",
        "* Informs the browser how to render the page correctly.\n",
        "\n",
        "* Helps the browser operate in standards mode (instead of quirks mode).\n",
        "\n",
        "* Ensures consistent behavior across different browsers.\n",
        "\n",
        "📄Example (HTML5 DOCTYPE):"
      ],
      "metadata": {
        "id": "MFD5KyHLl0Ke"
      }
    },
    {
      "cell_type": "code",
      "source": [
        "%%html\n",
        "<!DOCTYPE html>\n",
        "<html>\n",
        "<head>\n",
        "    <title>My Web Page</title>\n",
        "</head>\n",
        "<body>\n",
        "    <h1>Hello, World!</h1>\n",
        "</body>\n",
        "</html>\n"
      ],
      "metadata": {
        "colab": {
          "base_uri": "https://localhost:8080/",
          "height": 74
        },
        "id": "Yv-bvPlPh4hk",
        "outputId": "a2a22811-37d9-41bb-f811-bf9b25e94820"
      },
      "execution_count": null,
      "outputs": [
        {
          "output_type": "display_data",
          "data": {
            "text/plain": [
              "<IPython.core.display.HTML object>"
            ],
            "text/html": [
              "<!DOCTYPE html>\n",
              "<html>\n",
              "<head>\n",
              "    <title>My Web Page</title>\n",
              "</head>\n",
              "<body>\n",
              "    <h1>Hello, World!</h1>\n",
              "</body>\n",
              "</html>\n"
            ]
          },
          "metadata": {}
        }
      ]
    },
    {
      "cell_type": "markdown",
      "source": [
        "This tells the browser: “Hey! This page uses HTML5, the latest version.”"
      ],
      "metadata": {
        "id": "axgrIeHxn1gg"
      }
    }
  ]
}